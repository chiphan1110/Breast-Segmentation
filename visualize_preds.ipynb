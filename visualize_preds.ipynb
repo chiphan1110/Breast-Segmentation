{
 "cells": [
  {
   "cell_type": "code",
   "execution_count": null,
   "metadata": {},
   "outputs": [
    {
     "ename": "",
     "evalue": "",
     "output_type": "error",
     "traceback": [
      "\u001b[1;31mRunning cells with '/bin/python3' requires the ipykernel package.\n",
      "\u001b[1;31mRun the following command to install 'ipykernel' into the Python environment. \n",
      "\u001b[1;31mCommand: '/bin/python3 -m pip install ipykernel -U --user --force-reinstall'"
     ]
    }
   ],
   "source": [
    "import os\n",
    "import torch\n",
    "from torch.utils.data import DataLoader\n",
    "import torch.nn.functional as F\n",
    "import numpy as np\n",
    "import matplotlib.pyplot as plt\n",
    "\n",
    "from load_data import CSAWS\n",
    "from utils import *\n",
    "from config import *\n",
    "import argparse"
   ]
  },
  {
   "cell_type": "code",
   "execution_count": null,
   "metadata": {},
   "outputs": [],
   "source": [
    "def argument_parser():\n",
    "    parser = argparse.ArgumentParser(description='Testing a segmentation model')\n",
    "    parser.add_argument('--init_model_file', default=BEST_MODEL_DIR, help='Path to the trained model file', dest='init_model_file')\n",
    "    parser.add_argument('--test_image_dir', default=TEST_IMAGE, help='Path to the test data file', dest='test_data_dir')\n",
    "    parser.add_argument('--test_mask_dir', default=TEST_MASK, help='Path to the test mask file', dest='mask_dir')\n",
    "    parser.add_argument('--batch_size', type=int, default=BATCH_SIZE, help='input batch size for testing')\n",
    "    parser.add_argument('--transform', type=A.Compose, default=TEST_TRANSFORM, help='Data augmentation')\n",
    "    parser.add_argument('--pred_log_dir', type=str, default=PRED_DIR, help='File to save test predictions score', dest='pred_log_dir')\n",
    "    \n",
    "    return parser.parse_args()"
   ]
  },
  {
   "cell_type": "code",
   "execution_count": null,
   "metadata": {},
   "outputs": [],
   "source": [
    "def load_test_dataset(args):\n",
    "    test_dataset = CSAWS(args.test_image_dir, args.test_mask_dir, args.transform)\n",
    "    data_loader = DataLoader(test_dataset, batch_size=args.batch_size, shuffle=False)\n",
    "    return data_loader"
   ]
  },
  {
   "cell_type": "code",
   "execution_count": null,
   "metadata": {},
   "outputs": [],
   "source": [
    "def load_model(model_file, device):\n",
    "    model = torch.load(model_file)\n",
    "    return model"
   ]
  },
  {
   "cell_type": "code",
   "execution_count": null,
   "metadata": {},
   "outputs": [],
   "source": [
    "\n",
    "\n",
    "def test_model(model, test_loader, test_loss_meter, test_intersection_meter, test_union_meter, test_target_meter, device, criterion):\n",
    "    model.eval()\n",
    "\n",
    "    with torch.no_grad():\n",
    "        for i, (images, masks) in enumerate(test_loader):\n",
    "            images = images.to(device).float()\n",
    "            masks = masks.to(device).long()\n",
    "            outputs = model(images)\n",
    "            outputs = F.interpolate(outputs, size=masks.shape[1:], mode='bilinear').squeeze(1)\n",
    "            loss = criterion(outputs, masks)\n",
    "\n",
    "            test_loss_meter.update(loss.item())\n",
    "            output_mask = outputs.argmax(1).squeeze(1)\n",
    "            intersection, union, target = intersectionAndUnionGPU(output_mask.float(), masks.float(), 3)\n",
    "            test_intersection_meter.update(intersection)\n",
    "            test_union_meter.update(union)\n",
    "            test_target_meter.update(target)\n",
    "\n",
    "    test_loss_avg = test_loss_meter.avg    \n",
    "    test_iou = test_intersection_meter.sum / (test_union_meter.sum + 1e-10)\n",
    "    test_dice = 2 * test_intersection_meter.sum / (test_target_meter.sum + test_union_meter.sum + 1e-10)\n",
    "    test_mIoU = torch.mean(test_iou)\n",
    "    test_mDice = torch.mean(test_dice)\n",
    "\n",
    "    return test_loss_avg, test_mIoU, test_mDice \n",
    "\n",
    "def main():\n",
    "    args = argument_parser()\n",
    "    device = torch.device('cuda' if torch.cuda.is_available() else 'cpu')\n",
    "    test_loader = load_test_dataset(args)\n",
    "    model = load_model(args.init_model_file, device)\n",
    "\n",
    "    print('Visualizing test data...')\n",
    "    test_loss_avg, test_mIoU, test_mDice  = test_model(model, test_loader, test_loss_meter, test_intersection_meter, test_union_meter, test_target_meter, device, criterion, test_log)\n",
    "\n",
    "if __name__ == \"__main__\":\n",
    "    main()"
   ]
  }
 ],
 "metadata": {
  "kernelspec": {
   "display_name": "Python 3",
   "language": "python",
   "name": "python3"
  },
  "language_info": {
   "name": "python",
   "version": "3.10.12"
  }
 },
 "nbformat": 4,
 "nbformat_minor": 2
}
