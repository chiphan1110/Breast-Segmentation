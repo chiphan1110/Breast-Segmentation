{
 "cells": [
  {
   "cell_type": "code",
   "execution_count": 1,
   "metadata": {},
   "outputs": [
    {
     "name": "stderr",
     "output_type": "stream",
     "text": [
      "/home/phanthc/miniforge3/envs/csaws-segment/lib/python3.8/site-packages/tqdm/auto.py:21: TqdmWarning: IProgress not found. Please update jupyter and ipywidgets. See https://ipywidgets.readthedocs.io/en/stable/user_install.html\n",
      "  from .autonotebook import tqdm as notebook_tqdm\n"
     ]
    }
   ],
   "source": [
    "import torch\n",
    "import torch.nn.functional as F\n",
    "import numpy as np\n",
    "import matplotlib.pyplot as plt\n",
    "\n",
    "from load_data import CSAWS\n",
    "from utils import *\n",
    "from config import *\n",
    "import argparse"
   ]
  },
  {
   "cell_type": "code",
   "execution_count": 4,
   "metadata": {},
   "outputs": [],
   "source": [
    "CUSTOM_COLORMAP = [\n",
    "    (0, 0, 0),  # Background\n",
    "    (255, 0, 0),  # Nipple\n",
    "    (0, 0, 255)  # Pectoral muscle\n",
    "]\n",
    "unorm = UnNormalize(mean=(0.485, 0.456, 0.406), std=(0.229, 0.224, 0.225))"
   ]
  },
  {
   "cell_type": "code",
   "execution_count": null,
   "metadata": {},
   "outputs": [],
   "source": [
    "def argument_parser():\n",
    "    parser = argparse.ArgumentParser(description='Testing a segmentation model')\n",
    "    parser.add_argument('--init_model_file', default=BEST_MODEL_DIR, help='Path to the trained model file', dest='init_model_file')\n",
    "    parser.add_argument('--test_image_dir', default=TEST_IMAGE, help='Path to the test data file', dest='test_data_dir')\n",
    "    parser.add_argument('--test_mask_dir', default=TEST_MASK, help='Path to the test mask file', dest='mask_dir')\n",
    "    parser.add_argument('--transform', type=A.Compose, default=TEST_TRANSFORM, help='Data augmentation')\n",
    "    \n",
    "    return parser.parse_args()"
   ]
  },
  {
   "cell_type": "code",
   "execution_count": 3,
   "metadata": {},
   "outputs": [],
   "source": [
    "def load_test_dataset(args):\n",
    "    test_dataset = CSAWS(args.test_image_dir, args.test_mask_dir, args.transform)\n",
    "    return test_dataset"
   ]
  },
  {
   "cell_type": "code",
   "execution_count": null,
   "metadata": {},
   "outputs": [],
   "source": [
    "def load_model(model_file, device):\n",
    "    model = torch.load(model_file)\n",
    "    return model"
   ]
  },
  {
   "cell_type": "code",
   "execution_count": 6,
   "metadata": {},
   "outputs": [],
   "source": [
    "def plot_figure(id, image, color_mask, color_mask_predict):\n",
    "        plt.figure(figsize=(15, 5))\n",
    "        plt.subplot(1, 3, 1)\n",
    "        plt.imshow(unorm(image).permute(1, 2, 0).cpu(), cmap='gray') \n",
    "        plt.title(f'Original Image {id}')\n",
    "        plt.axis('off')\n",
    "\n",
    "        plt.subplot(1, 3, 2)\n",
    "        plt.imshow(color_mask)\n",
    "        plt.title(f'True Mask {id}')\n",
    "        plt.axis('off')\n",
    "\n",
    "        plt.subplot(1, 3, 3)\n",
    "        plt.imshow(color_mask_predict)\n",
    "        plt.title(f'Predicted Mask {id}')\n",
    "        plt.axis('off')\n",
    "        \n",
    "        plt.show()"
   ]
  },
  {
   "cell_type": "code",
   "execution_count": 7,
   "metadata": {},
   "outputs": [],
   "source": [
    "def visualize_predictions(model, test_dataset, device):\n",
    "    with torch.no_grad():\n",
    "        model.eval()\n",
    "\n",
    "        for id in range(len(test_dataset)):\n",
    "            x, y = test_dataset[id]\n",
    "\n",
    "            y_predict = F.interpolate(model(x.unsqueeze(0).to(device)), size=y.shape, mode=\"bilinear\").argmax(dim=1).squeeze().cpu().numpy()\n",
    "\n",
    "            color_mask_predict = np.zeros((*y_predict.shape, 3), dtype=np.uint8)\n",
    "            color_mask = np.zeros((*y_predict.shape, 3), dtype=np.uint8)\n",
    "\n",
    "            for i, color in enumerate(CUSTOM_COLORMAP):\n",
    "                color_mask_predict[y_predict == i] = np.array(color)\n",
    "                color_mask[y == i] = np.array(color)\n",
    "\n",
    "    plot_figure(id, x, color_mask, color_mask_predict)"
   ]
  },
  {
   "cell_type": "code",
   "execution_count": null,
   "metadata": {},
   "outputs": [],
   "source": [
    "args = argument_parser()\n",
    "device = torch.device('cuda' if torch.cuda.is_available() else 'cpu')\n",
    "model = load_model(args.init_model_file, device)\n",
    "test_dataset = load_test_dataset(args)\n",
    "visualize_predictions(model, test_dataset, device)"
   ]
  }
 ],
 "metadata": {
  "kernelspec": {
   "display_name": "Python 3",
   "language": "python",
   "name": "python3"
  },
  "language_info": {
   "codemirror_mode": {
    "name": "ipython",
    "version": 3
   },
   "file_extension": ".py",
   "mimetype": "text/x-python",
   "name": "python",
   "nbconvert_exporter": "python",
   "pygments_lexer": "ipython3",
   "version": "3.8.19"
  }
 },
 "nbformat": 4,
 "nbformat_minor": 2
}
